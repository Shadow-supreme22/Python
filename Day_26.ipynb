{
  "nbformat": 4,
  "nbformat_minor": 0,
  "metadata": {
    "colab": {
      "name": "Day-26.ipynb",
      "provenance": []
    },
    "kernelspec": {
      "name": "python3",
      "display_name": "Python 3"
    }
  },
  "cells": [
    {
      "cell_type": "markdown",
      "metadata": {
        "id": "Kwf0SbP_pcq0"
      },
      "source": [
        "# Day-26 Assignment\n",
        "                  Done BY:- Varinderjot Singh\n",
        "\n",
        "Question 1:\n",
        "Perform the shallow and deep copy experiment"
      ]
    },
    {
      "cell_type": "code",
      "metadata": {
        "id": "J_qoX39PpRxA",
        "outputId": "29e11bee-db26-45e2-b969-2ef4e5e6772a",
        "colab": {
          "base_uri": "https://localhost:8080/"
        }
      },
      "source": [
        "#Shallow Copy\n",
        "import copy\n",
        "list1=[[1, 2, 3], [10, 20 ,30], [40, 45, 60]]\n",
        "list2=copy.copy(list1)\n",
        "print(list1)\n",
        "print(list2)\n",
        "list1[2][0]=35\n",
        "print(list1)\n",
        "print(list2)"
      ],
      "execution_count": 2,
      "outputs": [
        {
          "output_type": "stream",
          "text": [
            "[[1, 2, 3], [10, 20, 30], [40, 45, 60]]\n",
            "[[1, 2, 3], [10, 20, 30], [40, 45, 60]]\n",
            "[[1, 2, 3], [10, 20, 30], [35, 45, 60]]\n",
            "[[1, 2, 3], [10, 20, 30], [35, 45, 60]]\n"
          ],
          "name": "stdout"
        }
      ]
    },
    {
      "cell_type": "code",
      "metadata": {
        "id": "fg9wsiHiq6bX",
        "outputId": "0958849e-4d8a-4481-ae20-1bb00a6a8eba",
        "colab": {
          "base_uri": "https://localhost:8080/"
        }
      },
      "source": [
        "#Deep Copy\n",
        "import copy\n",
        "list1=[[1, 2, 3], [10, 20 ,30], [40, 45, 60]]\n",
        "list2=copy.deepcopy(list1)\n",
        "print(list1)\n",
        "print(list2)\n",
        "list1[2][0]=35\n",
        "print(list1)\n",
        "print(list2)"
      ],
      "execution_count": 3,
      "outputs": [
        {
          "output_type": "stream",
          "text": [
            "[[1, 2, 3], [10, 20, 30], [40, 45, 60]]\n",
            "[[1, 2, 3], [10, 20, 30], [40, 45, 60]]\n",
            "[[1, 2, 3], [10, 20, 30], [35, 45, 60]]\n",
            "[[1, 2, 3], [10, 20, 30], [40, 45, 60]]\n"
          ],
          "name": "stdout"
        }
      ]
    },
    {
      "cell_type": "code",
      "metadata": {
        "id": "4GdvfukwrROT"
      },
      "source": [
        ""
      ],
      "execution_count": null,
      "outputs": []
    }
  ]
}