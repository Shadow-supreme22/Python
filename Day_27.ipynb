{
  "nbformat": 4,
  "nbformat_minor": 0,
  "metadata": {
    "colab": {
      "name": "Day-27.ipynb",
      "provenance": [],
      "collapsed_sections": []
    },
    "kernelspec": {
      "name": "python3",
      "display_name": "Python 3"
    }
  },
  "cells": [
    {
      "cell_type": "markdown",
      "metadata": {
        "id": "0ycIareimAeJ"
      },
      "source": [
        "# Assignment Day-27\n",
        "                 Done By:- Varinderjot Singh\n",
        "\n",
        "Question 1:\n",
        "Execute this code 3 times with iterator and generator expression and write down your findings.\n",
        "import datetime\n",
        "main_list = list(range(100000000))\n",
        "t1 = datetime.datetime.now()\n",
        "list1 = (each**2 for each in main_list)\n",
        "for each in list1:\n",
        "each\n",
        "t2 = datetime.datetime.now()\n",
        "print (t2-t1)\n"
      ]
    },
    {
      "cell_type": "code",
      "metadata": {
        "id": "cNJQDy_vga4b",
        "outputId": "fde14f7f-32bc-4198-8493-e63b7d43eff0",
        "colab": {
          "base_uri": "https://localhost:8080/"
        }
      },
      "source": [
        "import datetime\n",
        "main_list = list(range(100000000))\n",
        "t1 = datetime.datetime.now()\n",
        "list1 = (each**2 for each in main_list)\n",
        "for each in list1:\n",
        "  each\n",
        "t2 = datetime.datetime.now()\n",
        "print (t2-t1)"
      ],
      "execution_count": 4,
      "outputs": [
        {
          "output_type": "stream",
          "text": [
            "0:00:32.136968\n"
          ],
          "name": "stdout"
        }
      ]
    },
    {
      "cell_type": "code",
      "metadata": {
        "id": "iSPljr1YiAJb",
        "outputId": "f7e1e5d9-2e88-4c3c-90e2-7ad34c79d9b4",
        "colab": {
          "base_uri": "https://localhost:8080/"
        }
      },
      "source": [
        "import datetime\n",
        "main_list = list(range(100000000))\n",
        "t1 = datetime.datetime.now()\n",
        "list1 = (each**2 for each in main_list)\n",
        "for each in list1:\n",
        "  each\n",
        "t2 = datetime.datetime.now()\n",
        "print (t2-t1)"
      ],
      "execution_count": 5,
      "outputs": [
        {
          "output_type": "stream",
          "text": [
            "0:00:31.143773\n"
          ],
          "name": "stdout"
        }
      ]
    },
    {
      "cell_type": "code",
      "metadata": {
        "id": "QKTaNkJBoEMm",
        "outputId": "ff78cfeb-dad2-4859-d648-ab48a8327db8",
        "colab": {
          "base_uri": "https://localhost:8080/"
        }
      },
      "source": [
        "import datetime\n",
        "main_list = list(range(100000000))\n",
        "t1 = datetime.datetime.now()\n",
        "list1 = (each**2 for each in main_list)\n",
        "for each in list1:\n",
        "  each\n",
        "t2 = datetime.datetime.now()\n",
        "print (t2-t1)"
      ],
      "execution_count": 6,
      "outputs": [
        {
          "output_type": "stream",
          "text": [
            "0:00:31.046775\n"
          ],
          "name": "stdout"
        }
      ]
    },
    {
      "cell_type": "code",
      "metadata": {
        "id": "BnOAen_5oE4S"
      },
      "source": [
        ""
      ],
      "execution_count": null,
      "outputs": []
    }
  ]
}