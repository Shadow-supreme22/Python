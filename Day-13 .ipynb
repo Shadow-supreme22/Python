{
 "cells": [
  {
   "cell_type": "markdown",
   "metadata": {},
   "source": [
    "# Day-13 Assignment\n",
    "                                 Done By:- Varinderjot Singh\n",
    "                                 "
   ]
  },
  {
   "cell_type": "markdown",
   "metadata": {},
   "source": [
    "# Question 1:\n",
    "Remove the hardcoded part from the code with the help of configparser\n",
    "Use the file config file exc.ini"
   ]
  },
  {
   "cell_type": "code",
   "execution_count": 34,
   "metadata": {},
   "outputs": [
    {
     "name": "stdout",
     "output_type": "stream",
     "text": [
      "['EXT']\n",
      "Current Path:  PythonNotes\\jupyternotebooks\\exc.ini\n",
      "From:  jupyternotebooks\\exc.ini\n",
      "To:  PythonNotes\\\n"
     ]
    }
   ],
   "source": [
    "from configparser import ConfigParser\n",
    "config = ConfigParser()\n",
    "config.read(\"exc.ini\")\n",
    "print(config.sections())\n",
    "current_p = config.get(\"EXT\", \"current_path\")\n",
    "from_p = config.get(\"EXT\", \"from\")\n",
    "to_p = config.get(\"EXT\", \"to\")\n",
    "print (\"Current Path: \", current_p)\n",
    "print (\"From: \", from_p)\n",
    "print (\"To: \", to_p)"
   ]
  },
  {
   "cell_type": "markdown",
   "metadata": {},
   "source": [
    "# Question 2:\n",
    "Please write the code in such a way so that it could give all path of a #file (same name ) which is present\n",
    "in multiple locations. "
   ]
  },
  {
   "cell_type": "code",
   "execution_count": null,
   "metadata": {},
   "outputs": [],
   "source": [
    "import os\n",
    "resp =os.walk(\"D:\\\\\")\n",
    "d1= {}\n",
    "for r,d,f in resp:\n",
    "    for file in f:\n",
    "        d1[file]= r\n",
    "#print (d1)\n",
    "file_name = input(\"Enter the file name \")\n",
    "for k,v in d1.items():\n",
    "    if file_name.lower() in k.lower() :\n",
    "        print (k,\":\", v)"
   ]
  },
  {
   "cell_type": "code",
   "execution_count": null,
   "metadata": {},
   "outputs": [],
   "source": []
  }
 ],
 "metadata": {
  "kernelspec": {
   "display_name": "Python 3",
   "language": "python",
   "name": "python3"
  },
  "language_info": {
   "codemirror_mode": {
    "name": "ipython",
    "version": 3
   },
   "file_extension": ".py",
   "mimetype": "text/x-python",
   "name": "python",
   "nbconvert_exporter": "python",
   "pygments_lexer": "ipython3",
   "version": "3.8.3"
  }
 },
 "nbformat": 4,
 "nbformat_minor": 4
}
