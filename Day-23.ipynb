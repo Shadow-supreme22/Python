{
 "cells": [
  {
   "cell_type": "markdown",
   "metadata": {},
   "source": [
    "# Day 23 Assignment\n",
    "                                Done By:- Varinderjot Singh"
   ]
  },
  {
   "cell_type": "markdown",
   "metadata": {},
   "source": [
    "# Question 1:\n",
    "Finder program\n",
    "# Dict, list, queue\n",
    "# directory --- os.walk()\n",
    "list1 = [c:, d:, e:]\n",
    "dict1 = {}\n",
    "def func(drive)\n",
    "resp = os.walk(drive)\n",
    "statem1\n",
    "st\n",
    "dict1[file] = path\n",
    "for drive in list1:\n",
    "#th1 = Thread(target= func(drive))\n",
    "#th1.start()\n",
    "func(drive)\n",
    "# apply join\n",
    "finding total time of execution #\n",
    "dict ---> pickle"
   ]
  },
  {
   "cell_type": "code",
   "execution_count": null,
   "metadata": {},
   "outputs": [],
   "source": [
    "#finder program \n",
    "# Dict, list, queue\n",
    "# directory --- os.walk()\n",
    "from Threading import Thread\n",
    "import os\n",
    "import pickle\n",
    "\n",
    "list1 = [c:, d:, e:]\n",
    "dict1 = {}\n",
    "\n",
    "def func(drive):\n",
    "    resp = os.walk(drive)\n",
    "    dict1[file] = path\n",
    "\n",
    "for drive in list1:\n",
    "    th1 = Thread(target= func(drive))\n",
    "    th1.start()\n",
    "    func(drive)\n",
    "    th1.join()\n",
    "\n",
    "# apply join\n",
    "\n",
    "#finding total time of excution #\n",
    "\n",
    "#dict ---> pickle \n",
    "file_w = open(\"file1.txt\", \"wb\")\n",
    "pickle.dump(file,file_w )\n",
    "pickle.dump(path,file_w )\n",
    "file_w.close()"
   ]
  }
 ],
 "metadata": {
  "kernelspec": {
   "display_name": "Python 3",
   "language": "python",
   "name": "python3"
  },
  "language_info": {
   "codemirror_mode": {
    "name": "ipython",
    "version": 3
   },
   "file_extension": ".py",
   "mimetype": "text/x-python",
   "name": "python",
   "nbconvert_exporter": "python",
   "pygments_lexer": "ipython3",
   "version": "3.8.3"
  }
 },
 "nbformat": 4,
 "nbformat_minor": 4
}
