{
 "cells": [
  {
   "cell_type": "markdown",
   "metadata": {},
   "source": [
    "# Day-21 Assignment \n",
    "                                 Done By:- Varinderjot Singh"
   ]
  },
  {
   "cell_type": "markdown",
   "metadata": {},
   "source": [
    "# Question 1:\n",
    "How to make object as callable video __call__\n",
    "from collections import Counter\n",
    "class MyCounter(Counter):\n",
    "Add here required code so that we can give data to object like co1(\"intel\")\n",
    "co1 = MyCounter()\n",
    "co1(\"intel\") "
   ]
  },
  {
   "cell_type": "code",
   "execution_count": 7,
   "metadata": {},
   "outputs": [
    {
     "data": {
      "text/plain": [
       "Counter({'i': 1, 'n': 1, 't': 1, 'e': 1, 'l': 1})"
      ]
     },
     "execution_count": 7,
     "metadata": {},
     "output_type": "execute_result"
    }
   ],
   "source": [
    "from collections import Counter\n",
    "class MyCounter(Counter):\n",
    "    def __call__(self,first):\n",
    "        self.first=first\n",
    "        return Counter(self.first)\n",
    "#Add here required code so that we can give data to object like co1(\"intel\")\n",
    "co1 = MyCounter()\n",
    "co1(\"intel\")"
   ]
  }
 ],
 "metadata": {
  "kernelspec": {
   "display_name": "Python 3",
   "language": "python",
   "name": "python3"
  },
  "language_info": {
   "codemirror_mode": {
    "name": "ipython",
    "version": 3
   },
   "file_extension": ".py",
   "mimetype": "text/x-python",
   "name": "python",
   "nbconvert_exporter": "python",
   "pygments_lexer": "ipython3",
   "version": "3.8.3"
  }
 },
 "nbformat": 4,
 "nbformat_minor": 4
}
